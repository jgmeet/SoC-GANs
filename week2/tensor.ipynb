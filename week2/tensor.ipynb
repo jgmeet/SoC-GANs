{
 "cells": [
  {
   "cell_type": "code",
   "execution_count": 1,
   "id": "39fdc605",
   "metadata": {},
   "outputs": [
    {
     "name": "stdout",
     "output_type": "stream",
     "text": [
      "Intel MKL WARNING: Support of Intel(R) Streaming SIMD Extensions 4.2 (Intel(R) SSE4.2) enabled only processors has been deprecated. Intel oneAPI Math Kernel Library 2025.0 will require Intel(R) Advanced Vector Extensions (Intel(R) AVX) instructions.\n",
      "Intel MKL WARNING: Support of Intel(R) Streaming SIMD Extensions 4.2 (Intel(R) SSE4.2) enabled only processors has been deprecated. Intel oneAPI Math Kernel Library 2025.0 will require Intel(R) Advanced Vector Extensions (Intel(R) AVX) instructions.\n"
     ]
    }
   ],
   "source": [
    "import torch"
   ]
  },
  {
   "cell_type": "code",
   "execution_count": 2,
   "id": "6d049b99",
   "metadata": {},
   "outputs": [
    {
     "name": "stdout",
     "output_type": "stream",
     "text": [
      "tensor([[0.1721, 0.5395, 0.9012],\n",
      "        [0.4968, 0.0361, 0.9279]])\n"
     ]
    }
   ],
   "source": [
    "# tensor can have dimensions more than 3 also!\n",
    "# x = torch.empty(2) # 1-D tensor\n",
    "# x = torch.empty(2,3,3) # 3-D tensor\n",
    "x = torch.rand(2,3) # assigns random values to tensor\n",
    "print(x)"
   ]
  },
  {
   "cell_type": "code",
   "execution_count": 3,
   "id": "f162a53b",
   "metadata": {},
   "outputs": [
    {
     "name": "stdout",
     "output_type": "stream",
     "text": [
      "torch.Size([2, 3])\n",
      "torch.float32\n"
     ]
    }
   ],
   "source": [
    "# .size() to get size of the tensor\n",
    "print(x.size())\n",
    "print(x.dtype)"
   ]
  },
  {
   "cell_type": "code",
   "execution_count": 4,
   "id": "a9de33a0",
   "metadata": {},
   "outputs": [
    {
     "name": "stdout",
     "output_type": "stream",
     "text": [
      "tensor([[1, 1],\n",
      "        [1, 1]], dtype=torch.int32)\n",
      "torch.int32\n"
     ]
    }
   ],
   "source": [
    "# to change the data type of tensor\n",
    "y = torch.ones(2,2,dtype=torch.int) # initialise values with '1', which are of type int\n",
    "print(y)\n",
    "print(y.dtype)"
   ]
  },
  {
   "cell_type": "code",
   "execution_count": 5,
   "id": "76b4fd23",
   "metadata": {},
   "outputs": [
    {
     "name": "stdout",
     "output_type": "stream",
     "text": [
      "tensor([ 4.2400, 54.5230])\n"
     ]
    }
   ],
   "source": [
    "# to convert python list to tensor\n",
    "z = torch.tensor([4.24,54.523])\n",
    "print(z)"
   ]
  },
  {
   "cell_type": "code",
   "execution_count": 6,
   "id": "32c37eb4",
   "metadata": {},
   "outputs": [
    {
     "name": "stdout",
     "output_type": "stream",
     "text": [
      "tensor([ 4, 54])\n"
     ]
    },
    {
     "name": "stderr",
     "output_type": "stream",
     "text": [
      "/var/folders/0d/c32t51vs6yx8kjt9hjlrn_dh0000gn/T/ipykernel_1073/1352482510.py:2: DeprecationWarning: an integer is required (got type float).  Implicit conversion to integers using __int__ is deprecated, and may be removed in a future version of Python.\n",
      "  x = torch.tensor([4.24,54.523], dtype = int)\n"
     ]
    }
   ],
   "source": [
    "# imp. observation, values intialised as float numbers but dtype = int will conv them to int's\n",
    "x = torch.tensor([4.24,54.523], dtype = int)\n",
    "print(x)"
   ]
  },
  {
   "cell_type": "code",
   "execution_count": 7,
   "id": "4af3dae3",
   "metadata": {},
   "outputs": [
    {
     "name": "stdout",
     "output_type": "stream",
     "text": [
      "tensor([12, 59])\n",
      "tensor([12, 59])\n"
     ]
    }
   ],
   "source": [
    "# operations on tensors\n",
    "y = torch.tensor([8,5], dtype = int)\n",
    "z = x+y # or z = torch.add(x,y)\n",
    "print(z)\n",
    "\n",
    "# to add inplace\n",
    "x.add_(y) # in pytorch, '_' represents inplace\n",
    "print(x)"
   ]
  },
  {
   "cell_type": "code",
   "execution_count": 10,
   "id": "15961124",
   "metadata": {},
   "outputs": [
    {
     "name": "stdout",
     "output_type": "stream",
     "text": [
      "tensor([[0.6202, 0.8169, 0.3346, 0.5410],\n",
      "        [0.7715, 0.0595, 0.1404, 0.0991],\n",
      "        [0.5864, 0.4738, 0.0378, 0.2274]])\n",
      "tensor([0.6202, 0.8169, 0.3346, 0.5410])\n",
      "tensor([0.6202, 0.7715, 0.5864])\n",
      "tensor(0.1404)\n",
      "0.1404159665107727\n"
     ]
    }
   ],
   "source": [
    "a = torch.rand(3,4)\n",
    "print(a)\n",
    "# to get only specific rows or cols\n",
    "print(a[0, :]) # will get 0th row and all cols\n",
    "print(a[:, 0]) # will get all rows and 0th col\n",
    "print(a[1,2]) # will get an tensor at pos 0,0\n",
    "# note that above will give tensor, to get value, we should use .item()\n",
    "print(a[1,2].item())"
   ]
  },
  {
   "cell_type": "code",
   "execution_count": 12,
   "id": "90e587db",
   "metadata": {},
   "outputs": [
    {
     "name": "stdout",
     "output_type": "stream",
     "text": [
      "tensor([[0.6202, 0.8169, 0.3346, 0.5410, 0.7715, 0.0595],\n",
      "        [0.1404, 0.0991, 0.5864, 0.4738, 0.0378, 0.2274]])\n",
      "torch.Size([2, 6])\n"
     ]
    }
   ],
   "source": [
    "b = a.view(-1, 6) # 2-D tensor where cols will be 6 while rows will be determined auto.\n",
    "print(b)\n",
    "print(b.size())"
   ]
  },
  {
   "cell_type": "code",
   "execution_count": 14,
   "id": "ae8a273d",
   "metadata": {},
   "outputs": [],
   "source": [
    "import numpy as np"
   ]
  },
  {
   "cell_type": "code",
   "execution_count": 17,
   "id": "cf25ef6f",
   "metadata": {},
   "outputs": [
    {
     "name": "stdout",
     "output_type": "stream",
     "text": [
      "[1. 1. 1. 1.]\n",
      "<class 'numpy.ndarray'>\n",
      "tensor([1., 1., 1., 1.], dtype=torch.float64)\n"
     ]
    }
   ],
   "source": [
    "# numpy to tensor and vice versa\n",
    "p = np.ones(4) # numpy arr\n",
    "print(p)\n",
    "print(type(p))\n",
    "q = torch.from_numpy(p) # tensor from numpy arr\n",
    "print(q)\n",
    "\n",
    "r = "
   ]
  },
  {
   "cell_type": "code",
   "execution_count": 18,
   "id": "2a689449",
   "metadata": {},
   "outputs": [
    {
     "name": "stdout",
     "output_type": "stream",
     "text": [
      "tensor([1., 1., 1.])\n",
      "[1. 1. 1.]\n",
      "<class 'numpy.ndarray'>\n"
     ]
    }
   ],
   "source": [
    "p = torch.ones(3) # tensor\n",
    "print(p)\n",
    "q = p.numpy()\n",
    "print(q)\n",
    "print(type(q))"
   ]
  },
  {
   "cell_type": "code",
   "execution_count": null,
   "id": "49da9d64",
   "metadata": {},
   "outputs": [],
   "source": []
  }
 ],
 "metadata": {
  "kernelspec": {
   "display_name": "pt",
   "language": "python",
   "name": "pt"
  },
  "language_info": {
   "codemirror_mode": {
    "name": "ipython",
    "version": 3
   },
   "file_extension": ".py",
   "mimetype": "text/x-python",
   "name": "python",
   "nbconvert_exporter": "python",
   "pygments_lexer": "ipython3",
   "version": "3.8.16"
  }
 },
 "nbformat": 4,
 "nbformat_minor": 5
}
