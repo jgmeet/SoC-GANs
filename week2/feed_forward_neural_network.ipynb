{
 "cells": [
  {
   "cell_type": "code",
   "execution_count": 1,
   "id": "948121dc",
   "metadata": {},
   "outputs": [
    {
     "name": "stdout",
     "output_type": "stream",
     "text": [
      "Intel MKL WARNING: Support of Intel(R) Streaming SIMD Extensions 4.2 (Intel(R) SSE4.2) enabled only processors has been deprecated. Intel oneAPI Math Kernel Library 2025.0 will require Intel(R) Advanced Vector Extensions (Intel(R) AVX) instructions.\n",
      "Intel MKL WARNING: Support of Intel(R) Streaming SIMD Extensions 4.2 (Intel(R) SSE4.2) enabled only processors has been deprecated. Intel oneAPI Math Kernel Library 2025.0 will require Intel(R) Advanced Vector Extensions (Intel(R) AVX) instructions.\n"
     ]
    }
   ],
   "source": [
    "import torch\n",
    "import torch.nn as nn\n",
    "import torchvision\n",
    "import torchvision.transforms as transforms\n",
    "import matplotlib.pyplot as plt"
   ]
  },
  {
   "cell_type": "code",
   "execution_count": 2,
   "id": "ec3cda2d",
   "metadata": {},
   "outputs": [],
   "source": [
    "inp_size = 28*28 # image size: 28 by 28 pixels\n",
    "hidden_size = 100\n",
    "op_size = 10\n",
    "num_epochs = 2\n",
    "batch_size = 100\n",
    "learning_rate = 0.01\n",
    "\n",
    "# load data\n",
    "data = torchvision.datasets.MNIST(root='./MNIST_data', train=True, transform = transforms.ToTensor(), download=True)\n",
    "target = torchvision.datasets.MNIST(root='./MNIST_data', train=False , transform = transforms.ToTensor())"
   ]
  },
  {
   "cell_type": "code",
   "execution_count": 3,
   "id": "e5ef580d",
   "metadata": {},
   "outputs": [],
   "source": [
    "train_loader = torch.utils.data.DataLoader(dataset=data,batch_size=batch_size, shuffle=True)\n",
    "test_loader = torch.utils.data.DataLoader(dataset=target,batch_size=batch_size, shuffle=False)"
   ]
  },
  {
   "cell_type": "code",
   "execution_count": 4,
   "id": "f9ca7a62",
   "metadata": {},
   "outputs": [
    {
     "name": "stdout",
     "output_type": "stream",
     "text": [
      "torch.Size([100, 1, 28, 28]) torch.Size([100])\n"
     ]
    }
   ],
   "source": [
    "examples = iter(train_loader)\n",
    "samples, labels = next(examples)\n",
    "print(samples.shape, labels.shape)\n",
    "# 100 samples and 100 labels -> each sample have a single label"
   ]
  },
  {
   "cell_type": "code",
   "execution_count": 5,
   "id": "b3de0f49",
   "metadata": {},
   "outputs": [],
   "source": [
    "class NeuralNet(nn.Module):\n",
    "    def __init__(self, input_size, hidden_size, num_classes):\n",
    "        super(NeuralNet, self).__init__()\n",
    "        self.l1 = nn.Linear(input_size, hidden_size)\n",
    "        self.relu = nn.ReLU()\n",
    "        self.l2 = nn.Linear(hidden_size,num_classes)\n",
    "        \n",
    "    def forward(self,x):\n",
    "        out = self.l1(x)\n",
    "        out = self.relu(out)\n",
    "        out = self.l2(out)\n",
    "        return out\n",
    "\n",
    "model = NeuralNet(inp_size, hidden_size, op_size)        "
   ]
  },
  {
   "cell_type": "code",
   "execution_count": 6,
   "id": "eaecb7fb",
   "metadata": {},
   "outputs": [],
   "source": [
    "criterion = nn.CrossEntropyLoss()\n",
    "optimiser = torch.optim.Adam(model.parameters(), lr=learning_rate)"
   ]
  },
  {
   "cell_type": "code",
   "execution_count": 7,
   "id": "17c05c15",
   "metadata": {},
   "outputs": [
    {
     "name": "stdout",
     "output_type": "stream",
     "text": [
      "epoch 0/2 step 100/600 loss: 0.3692323565483093\n",
      "epoch 0/2 step 200/600 loss: 0.2848740220069885\n",
      "epoch 0/2 step 300/600 loss: 0.22716006636619568\n",
      "epoch 0/2 step 400/600 loss: 0.24613647162914276\n",
      "epoch 0/2 step 500/600 loss: 0.16568170487880707\n",
      "epoch 0/2 step 600/600 loss: 0.09673020243644714\n",
      "epoch 1/2 step 100/600 loss: 0.08737045526504517\n",
      "epoch 1/2 step 200/600 loss: 0.042530473321676254\n",
      "epoch 1/2 step 300/600 loss: 0.1409296840429306\n",
      "epoch 1/2 step 400/600 loss: 0.11258244514465332\n",
      "epoch 1/2 step 500/600 loss: 0.1596161276102066\n",
      "epoch 1/2 step 600/600 loss: 0.09192123264074326\n"
     ]
    }
   ],
   "source": [
    "# training loop\n",
    "for epoch in range(num_epochs):\n",
    "    for i, (images, labels) in enumerate(train_loader):\n",
    "        # curr images.shape -> 100,1,28,28\n",
    "        # change it to -> 100,784\n",
    "        images = images.reshape(-1,784)\n",
    "        \n",
    "        # forward pass\n",
    "        output = model(images)\n",
    "        \n",
    "        # loss\n",
    "        loss = criterion(output, labels)\n",
    "        \n",
    "        # backward pass\n",
    "        loss.backward()\n",
    "        \n",
    "        # update weights\n",
    "        optimiser.step()\n",
    "\n",
    "        # reload gradients to zero\n",
    "        optimiser.zero_grad()\n",
    "        \n",
    "        if (i+1)%100 == 0: print(f'epoch {epoch}/{num_epochs} step {i+1}/{len(train_loader)} loss: {loss}')"
   ]
  },
  {
   "cell_type": "code",
   "execution_count": 10,
   "id": "76851729",
   "metadata": {},
   "outputs": [
    {
     "name": "stdout",
     "output_type": "stream",
     "text": [
      "accuracy: 96.28%\n"
     ]
    }
   ],
   "source": [
    "# test\n",
    "with torch.no_grad():\n",
    "    n_correct = 0\n",
    "    n_samples = 0\n",
    "    for images, labels in test_loader:\n",
    "        images = images.reshape(-1,784)\n",
    "        outputs = model(images)\n",
    "        \n",
    "        # value, index\n",
    "        _, predictions = torch.max(outputs.data, 1)\n",
    "        n_samples += labels.shape[0]\n",
    "        n_correct += (predictions == labels).sum()\n",
    "        \n",
    "    acc = 100.0*n_correct/n_samples\n",
    "    print(f'accuracy: {acc:.2f}%')"
   ]
  },
  {
   "cell_type": "code",
   "execution_count": null,
   "id": "57640966",
   "metadata": {},
   "outputs": [],
   "source": []
  }
 ],
 "metadata": {
  "kernelspec": {
   "display_name": "pt",
   "language": "python",
   "name": "pt"
  },
  "language_info": {
   "codemirror_mode": {
    "name": "ipython",
    "version": 3
   },
   "file_extension": ".py",
   "mimetype": "text/x-python",
   "name": "python",
   "nbconvert_exporter": "python",
   "pygments_lexer": "ipython3",
   "version": "3.8.16"
  }
 },
 "nbformat": 4,
 "nbformat_minor": 5
}
