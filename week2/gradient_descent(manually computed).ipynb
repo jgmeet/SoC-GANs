{
 "cells": [
  {
   "cell_type": "code",
   "execution_count": 1,
   "id": "942c5115",
   "metadata": {},
   "outputs": [
    {
     "name": "stdout",
     "output_type": "stream",
     "text": [
      "Intel MKL WARNING: Support of Intel(R) Streaming SIMD Extensions 4.2 (Intel(R) SSE4.2) enabled only processors has been deprecated. Intel oneAPI Math Kernel Library 2025.0 will require Intel(R) Advanced Vector Extensions (Intel(R) AVX) instructions.\n",
      "Intel MKL WARNING: Support of Intel(R) Streaming SIMD Extensions 4.2 (Intel(R) SSE4.2) enabled only processors has been deprecated. Intel oneAPI Math Kernel Library 2025.0 will require Intel(R) Advanced Vector Extensions (Intel(R) AVX) instructions.\n"
     ]
    }
   ],
   "source": [
    "import numpy as np"
   ]
  },
  {
   "cell_type": "code",
   "execution_count": 2,
   "id": "e2b6c914",
   "metadata": {},
   "outputs": [
    {
     "name": "stdout",
     "output_type": "stream",
     "text": [
      "<class 'numpy.float32'>\n"
     ]
    }
   ],
   "source": [
    "# y = w*x\n",
    "# y = 3*x\n",
    "x = np.array([1,2,3], dtype=np.float32)\n",
    "print(type(x[0]))\n",
    "y = np.array([3,6,9])\n",
    "w = 0.0"
   ]
  },
  {
   "cell_type": "code",
   "execution_count": 3,
   "id": "085547de",
   "metadata": {},
   "outputs": [],
   "source": [
    "# model prediction\n",
    "def forward_pass(w,x):\n",
    "    return w*x\n",
    "\n",
    "# loss = mean sq. err.\n",
    "def loss(y_hat, y):\n",
    "    return ((y_hat-y)**2).mean()\n",
    "\n",
    "# gradient = dloss/dw\n",
    "# dloss/dw = (1/N)*2x*(w*x - y)\n",
    "def get_gradient(y_hat,y):\n",
    "    return np.dot(2*x, y_hat - y).mean()\n"
   ]
  },
  {
   "cell_type": "code",
   "execution_count": 4,
   "id": "351286ad",
   "metadata": {},
   "outputs": [
    {
     "name": "stdout",
     "output_type": "stream",
     "text": [
      "y_hat: [0. 0. 0.], loss: 42.0, grad: -84.0\n"
     ]
    }
   ],
   "source": [
    "# befor model training\n",
    "y_hat = forward_pass(w,x)\n",
    "l = loss(y_hat, y)\n",
    "grad = get_gradient(y_hat,y)\n",
    "print(f'y_hat: {y_hat}, loss: {l}, grad: {grad}')"
   ]
  },
  {
   "cell_type": "code",
   "execution_count": 5,
   "id": "e7d0c383",
   "metadata": {},
   "outputs": [
    {
     "name": "stdout",
     "output_type": "stream",
     "text": [
      "epoch: 0, loss: 42.0\n",
      "epoch: 10, loss: 0.05887059566581835\n",
      "epoch: 20, loss: 8.251766964425163e-05\n",
      "epoch: 30, loss: 1.1555130186025053e-07\n",
      "epoch: 40, loss: 1.5279510989785194e-10\n"
     ]
    }
   ],
   "source": [
    "# model training\n",
    "# n_iters = 10\n",
    "n_iters = 50\n",
    "l_rate = 0.01\n",
    "\n",
    "for epoch in range(n_iters):\n",
    "    # prediction\n",
    "    y_hat = forward_pass(w,x)\n",
    "    \n",
    "    # calc. loss\n",
    "    l = loss(y_hat,y)\n",
    "    \n",
    "    # get gradient\n",
    "    dl_dw = get_gradient(y_hat, y)\n",
    "    \n",
    "    # update parameters\n",
    "    w = w - l_rate*dl_dw\n",
    "    \n",
    "    if epoch % 10 == 0:\n",
    "        print(f'epoch: {epoch}, loss: {l}')"
   ]
  },
  {
   "cell_type": "code",
   "execution_count": 6,
   "id": "7d993e58",
   "metadata": {},
   "outputs": [
    {
     "name": "stdout",
     "output_type": "stream",
     "text": [
      "[2.9999998 5.9999995 8.999999 ]\n"
     ]
    }
   ],
   "source": [
    "# model prediction after training\n",
    "print(forward_pass(w,x))"
   ]
  },
  {
   "cell_type": "code",
   "execution_count": null,
   "id": "608b87c8",
   "metadata": {},
   "outputs": [],
   "source": []
  },
  {
   "cell_type": "code",
   "execution_count": null,
   "id": "45bcaa79",
   "metadata": {},
   "outputs": [],
   "source": []
  }
 ],
 "metadata": {
  "kernelspec": {
   "display_name": "pt",
   "language": "python",
   "name": "pt"
  },
  "language_info": {
   "codemirror_mode": {
    "name": "ipython",
    "version": 3
   },
   "file_extension": ".py",
   "mimetype": "text/x-python",
   "name": "python",
   "nbconvert_exporter": "python",
   "pygments_lexer": "ipython3",
   "version": "3.8.16"
  }
 },
 "nbformat": 4,
 "nbformat_minor": 5
}
