{
 "cells": [
  {
   "cell_type": "code",
   "execution_count": 4,
   "id": "0bf7be78",
   "metadata": {},
   "outputs": [
    {
     "name": "stdout",
     "output_type": "stream",
     "text": [
      "Intel MKL WARNING: Support of Intel(R) Streaming SIMD Extensions 4.2 (Intel(R) SSE4.2) enabled only processors has been deprecated. Intel oneAPI Math Kernel Library 2025.0 will require Intel(R) Advanced Vector Extensions (Intel(R) AVX) instructions.\n",
      "Intel MKL WARNING: Support of Intel(R) Streaming SIMD Extensions 4.2 (Intel(R) SSE4.2) enabled only processors has been deprecated. Intel oneAPI Math Kernel Library 2025.0 will require Intel(R) Advanced Vector Extensions (Intel(R) AVX) instructions.\n"
     ]
    }
   ],
   "source": [
    "import torch\n",
    "import torch.nn as nn\n",
    "import torch.optim as optim\n",
    "import torchvision\n",
    "import torchvision.datasets as datasets\n",
    "from torch.utils.data import DataLoader\n",
    "import torchvision.transforms as transforms\n",
    "from torch.utils.tensorboard import SummaryWriter  # to print to tensorboard"
   ]
  },
  {
   "cell_type": "code",
   "execution_count": 5,
   "id": "2c8817e5",
   "metadata": {},
   "outputs": [],
   "source": [
    "# returns value bw 0 to 1, 0 means fake img, 1 means real img\n",
    "class Discriminator(nn.Module):\n",
    "    def __init__(self, img_dim):\n",
    "        super().__init__()\n",
    "        self.disc = nn.Sequential(\n",
    "            nn.Linear(img_dim,128),\n",
    "            nn.LeakyReLU(0.1),\n",
    "            nn.Linear(128,1),\n",
    "            nn.Sigmoid()\n",
    "        )\n",
    "        \n",
    "    def forward(self, x):\n",
    "        return self.disc(x)\n",
    "        \n",
    "# returns image generated\n",
    "class Generator(nn.Module):\n",
    "    def __init__(self, noise_dim, img_dim):\n",
    "        super().__init__()\n",
    "        self.gen = nn.Sequential(\n",
    "            nn.Linear(noise_dim,256),\n",
    "            nn.LeakyReLU(0.1),\n",
    "            nn.Linear(256, img_dim),\n",
    "            nn.Tanh() # because we will normalize input, so it will make sense only,\n",
    "#                     if we normalize output\n",
    "        )\n",
    "        \n",
    "    def forward(self, img):\n",
    "        return self.gen(img)\n",
    "        \n"
   ]
  },
  {
   "cell_type": "code",
   "execution_count": 6,
   "id": "eaab019d",
   "metadata": {},
   "outputs": [],
   "source": [
    "# hper-parameters\n",
    "lr_rate = 3e-2\n",
    "noise_dim = 256\n",
    "img_dim = 28*28*1 # 784\n",
    "batch_size = 64\n",
    "num_epochs = 5\n",
    "\n",
    "disc = Discriminator(img_dim)\n",
    "gen = Generator(noise_dim, img_dim)\n",
    "fixed_noise = torch.randn((batch_size,noise_dim))\n",
    "transforms = transforms.Compose(\n",
    "    [transforms.ToTensor(), transforms.Normalize((0.1307,),(0.3081,))]\n",
    ")\n",
    "dataset = datasets.MNIST(root=\"pytorch_tutorials/\", transform=transforms, download=True)\n",
    "loader = DataLoader(dataset, batch_size=batch_size, shuffle=True)\n",
    "# optimiser for discriminator\n",
    "opt_disc = optim.Adam(disc.parameters(), lr=lr_rate)\n",
    "# optimiser for generator\n",
    "opt_gen = optim.Adam(gen.parameters(), lr=lr_rate)\n",
    "criterion = nn.BCELoss()\n",
    "\n"
   ]
  },
  {
   "cell_type": "code",
   "execution_count": 7,
   "id": "36f25b48",
   "metadata": {},
   "outputs": [
    {
     "name": "stdout",
     "output_type": "stream",
     "text": [
      "Epoch [0/5] Batch 0/938                       Loss D: 0.7543, loss G: 1.1597\n",
      "Epoch [1/5] Batch 0/938                       Loss D: 50.0000, loss G: 0.0000\n",
      "Epoch [2/5] Batch 0/938                       Loss D: 50.0000, loss G: 0.0000\n",
      "Epoch [3/5] Batch 0/938                       Loss D: 50.0000, loss G: 0.0000\n",
      "Epoch [4/5] Batch 0/938                       Loss D: 50.0000, loss G: 0.0000\n"
     ]
    }
   ],
   "source": [
    "for epoch in range(num_epochs):\n",
    "    for batch_idx, (real_img,_) in enumerate(loader):\n",
    "#         real_img = real_img.view(-1,784)\n",
    "#         print(real_img.shape)\n",
    "#         real_img = torch.cat(real_img, dim=0)  # Concatenate the list of tensors\n",
    "        \n",
    "#         # Convert RGB images to grayscale if necessary\n",
    "#         if real_img.shape[1] > 1:\n",
    "#             real_img = torch.mean(real_img, dim=1, keepdim=True)\n",
    "        \n",
    "        real_img = real_img.view(-1, 784)\n",
    "        batch_size = real_img.shape[0]\n",
    "        \n",
    "        # Train Discriminator: loss = max log(D(real_img)) + log( 1 - D(G(noise)))\n",
    "        noise = torch.randn(batch_size,noise_dim)\n",
    "        G_noise = gen(noise) # = G(noise)\n",
    "        d_real = disc(real_img).view(-1) # = D(real_img)\n",
    "        loss1 = criterion(d_real, torch.ones_like(d_real)) # = log(D(real_img))\n",
    "        d_g_noise = disc(G_noise).view(-1)\n",
    "        loss2 = criterion(d_g_noise, torch.zeros_like(d_g_noise))\n",
    "        lossD = (loss1+loss2)/2\n",
    "        disc.zero_grad()\n",
    "        lossD.backward(retain_graph=True)\n",
    "        opt_disc.step()\n",
    "        \n",
    "        # Train Generator: loss = min log(1 - D(G(noise))) or max log(D(G(noise))\n",
    "        d_g_noise = disc(G_noise).view(-1)\n",
    "        lossG = criterion(d_g_noise, torch.ones_like(d_g_noise))\n",
    "        gen.zero_grad()\n",
    "        lossG.backward()\n",
    "        opt_gen.step()\n",
    "        \n",
    "        if batch_idx == 0:\n",
    "            print(\n",
    "                f\"Epoch [{epoch}/{num_epochs}] Batch {batch_idx}/{len(loader)} \\\n",
    "                      Loss D: {lossD:.4f}, loss G: {lossG:.4f}\"\n",
    "            )"
   ]
  },
  {
   "cell_type": "code",
   "execution_count": null,
   "id": "3ec99060",
   "metadata": {},
   "outputs": [],
   "source": []
  }
 ],
 "metadata": {
  "kernelspec": {
   "display_name": "pt",
   "language": "python",
   "name": "pt"
  },
  "language_info": {
   "codemirror_mode": {
    "name": "ipython",
    "version": 3
   },
   "file_extension": ".py",
   "mimetype": "text/x-python",
   "name": "python",
   "nbconvert_exporter": "python",
   "pygments_lexer": "ipython3",
   "version": "3.8.16"
  }
 },
 "nbformat": 4,
 "nbformat_minor": 5
}
