{
 "cells": [
  {
   "cell_type": "code",
   "execution_count": 1,
   "id": "0b49dcd7",
   "metadata": {},
   "outputs": [
    {
     "name": "stdout",
     "output_type": "stream",
     "text": [
      "Intel MKL WARNING: Support of Intel(R) Streaming SIMD Extensions 4.2 (Intel(R) SSE4.2) enabled only processors has been deprecated. Intel oneAPI Math Kernel Library 2025.0 will require Intel(R) Advanced Vector Extensions (Intel(R) AVX) instructions.\n",
      "Intel MKL WARNING: Support of Intel(R) Streaming SIMD Extensions 4.2 (Intel(R) SSE4.2) enabled only processors has been deprecated. Intel oneAPI Math Kernel Library 2025.0 will require Intel(R) Advanced Vector Extensions (Intel(R) AVX) instructions.\n"
     ]
    }
   ],
   "source": [
    "import torch\n",
    "import numpy as np\n",
    "import torch.nn as nn\n",
    "from sklearn import datasets\n",
    "from sklearn.preprocessing import StandardScaler\n",
    "from sklearn.model_selection import train_test_split\n",
    "from sklearn.utils import shuffle"
   ]
  },
  {
   "cell_type": "code",
   "execution_count": 2,
   "id": "34a31ef7",
   "metadata": {},
   "outputs": [
    {
     "name": "stdout",
     "output_type": "stream",
     "text": [
      "[[5.8 2.8 5.1 2.4]\n",
      " [6.  2.2 4.  1. ]\n",
      " [5.5 4.2 1.4 0.2]]\n",
      "[2 1 0]\n",
      "(150, 4)\n",
      "(150,)\n"
     ]
    }
   ],
   "source": [
    "# understanding data\n",
    "iris = datasets.load_iris()\n",
    "x = iris.data\n",
    "y = iris.target\n",
    "# shuffle x and y with same order\n",
    "x, y = shuffle(x, y, random_state=0)\n",
    "\n",
    "print(x[:3,:])\n",
    "print(y[:3])\n",
    "print(x.shape)\n",
    "print(y.shape)"
   ]
  },
  {
   "cell_type": "code",
   "execution_count": 3,
   "id": "aea90d72",
   "metadata": {},
   "outputs": [
    {
     "name": "stdout",
     "output_type": "stream",
     "text": [
      "torch.Size([135, 4])\n",
      "torch.Size([135, 1])\n"
     ]
    }
   ],
   "source": [
    "# step 0 -> prepare data\n",
    "n_samples, n_features = x.shape\n",
    "x_train,x_test,y_train,y_test = train_test_split(x,y,test_size = 0.1)\n",
    "\n",
    "sc = StandardScaler()\n",
    "x_train = sc.fit_transform(x_train)\n",
    "x_test = sc.transform(x_test)\n",
    "\n",
    "# transform from numpy to tensor\n",
    "x_train = torch.from_numpy(x_train.astype(np.float32))\n",
    "x_test = torch.from_numpy(x_test.astype(np.float32))\n",
    "y_train = torch.from_numpy(y_train.astype(np.float32))\n",
    "y_test = torch.from_numpy(y_test.astype(np.float32))\n",
    "\n",
    "# reshape y_train and y_test\n",
    "y_train = y_train.view(-1,1)\n",
    "y_test = y_test.view(-1,1)\n",
    "print(x_train.size())\n",
    "print(y_train.size())"
   ]
  },
  {
   "cell_type": "code",
   "execution_count": 4,
   "id": "6e056ad9",
   "metadata": {},
   "outputs": [],
   "source": [
    "# step 1 -> model\n",
    "class logisticRegression(nn.Module):\n",
    "    def __init__(self, num_input_features):\n",
    "        super(logisticRegression, self).__init__()\n",
    "        self.linear = nn.Linear(num_input_features,1)\n",
    "        \n",
    "    def forward(self,x):\n",
    "        y_hat = torch.sigmoid(self.linear(x))\n",
    "        return y_hat\n",
    "\n",
    "model = logisticRegression(n_features)"
   ]
  },
  {
   "cell_type": "code",
   "execution_count": 5,
   "id": "41ab4a73",
   "metadata": {},
   "outputs": [],
   "source": [
    "# step 2 -> optimiser and loss\n",
    "criterion = nn.BCELoss()\n",
    "learning_rate = 0.01\n",
    "optimiser = torch.optim.Adam(model.parameters(), lr=learning_rate)"
   ]
  },
  {
   "cell_type": "code",
   "execution_count": 6,
   "id": "af9310c6",
   "metadata": {},
   "outputs": [
    {
     "name": "stdout",
     "output_type": "stream",
     "text": [
      "epoch: 0, loss: 0.6325342059135437\n",
      "epoch: 10, loss: 0.3439575135707855\n",
      "epoch: 20, loss: 0.08671033382415771\n",
      "epoch: 30, loss: -0.14045299589633942\n",
      "epoch: 40, loss: -0.3414994776248932\n",
      "epoch: 50, loss: -0.5214387774467468\n",
      "epoch: 60, loss: -0.6850612759590149\n",
      "epoch: 70, loss: -0.8363652229309082\n",
      "epoch: 80, loss: -0.9784616231918335\n",
      "epoch: 90, loss: -1.1136949062347412\n"
     ]
    }
   ],
   "source": [
    "# step 3 -> training loop\n",
    "n_epochs = 100\n",
    "for epoch in range(n_epochs):\n",
    "    # forward pass\n",
    "    y_hat = model(x_train)\n",
    "    \n",
    "    # loss\n",
    "    loss = criterion(y_hat,y_train)\n",
    "    \n",
    "    # backward pass\n",
    "    loss.backward()\n",
    "    \n",
    "    # update weights\n",
    "    optimiser.step()\n",
    "    \n",
    "    # reload graidents to zero\n",
    "    optimiser.zero_grad()\n",
    "    \n",
    "    if epoch%10 == 0: print(f'epoch: {epoch}, loss: {loss}')\n"
   ]
  },
  {
   "cell_type": "code",
   "execution_count": 7,
   "id": "bbbf04ff",
   "metadata": {},
   "outputs": [
    {
     "name": "stdout",
     "output_type": "stream",
     "text": [
      "tensor(0.7333)\n"
     ]
    }
   ],
   "source": [
    "with torch.no_grad():\n",
    "    y_hat_test = model(x_test)\n",
    "    y_test_cls = y_hat_test.round()\n",
    "    acc = y_test_cls.eq(y_test).sum() / float(y_test.shape[0])\n",
    "    print(acc)"
   ]
  },
  {
   "cell_type": "code",
   "execution_count": 8,
   "id": "6334ab7f",
   "metadata": {},
   "outputs": [],
   "source": [
    "# X = np.array([[1., 0.], [2., 1.], [0., 0.]])\n",
    "# y = np.array([0, 1, 2])\n",
    "# from sklearn.utils import shuffle\n",
    "# X, y = shuffle(X, y, random_state=0)\n",
    "# print(X)\n",
    "# print(y)"
   ]
  },
  {
   "cell_type": "code",
   "execution_count": null,
   "id": "e109fad2",
   "metadata": {},
   "outputs": [],
   "source": []
  }
 ],
 "metadata": {
  "kernelspec": {
   "display_name": "pt",
   "language": "python",
   "name": "pt"
  },
  "language_info": {
   "codemirror_mode": {
    "name": "ipython",
    "version": 3
   },
   "file_extension": ".py",
   "mimetype": "text/x-python",
   "name": "python",
   "nbconvert_exporter": "python",
   "pygments_lexer": "ipython3",
   "version": "3.8.16"
  }
 },
 "nbformat": 4,
 "nbformat_minor": 5
}
